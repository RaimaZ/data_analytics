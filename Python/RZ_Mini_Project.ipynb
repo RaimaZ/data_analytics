{
  "nbformat": 4,
  "nbformat_minor": 0,
  "metadata": {
    "colab": {
      "name": "RZ_Mini_Project.ipynb",
      "provenance": [],
      "collapsed_sections": []
    },
    "kernelspec": {
      "name": "python3",
      "display_name": "Python 3"
    }
  },
  "cells": [
    {
      "cell_type": "code",
      "metadata": {
        "colab": {
          "base_uri": "https://localhost:8080/"
        },
        "id": "j7R-76q_78G4",
        "outputId": "3f752125-cf42-48ba-e9fa-13eb4beb6848"
      },
      "source": [
        "#Raima Zulqarnain\n",
        "#Unit2_Mini_Project \n",
        "#Ask the user for a number.\n",
        "n = int(input(\"Please enter a number: \"))\n",
        "#Depending on whether the number is even or odd,\n",
        "#print out an appropriate message to the user.\n",
        "#Bonus:\n",
        "#If the number is a multiple of 4, print out a different message.\n",
        "if (n%4)== 0:\n",
        "  print(n, \"is a multiple of 4!\")\n",
        "elif (n%2) == 0:\n",
        "  print(n, \"is an even number!\")\n",
        "else:\n",
        "  print(n, \"is an odd number!\")\n"
      ],
      "execution_count": 59,
      "outputs": [
        {
          "output_type": "stream",
          "text": [
            "Please enter a number: 19\n",
            "19 is an odd number!\n"
          ],
          "name": "stdout"
        }
      ]
    },
    {
      "cell_type": "code",
      "metadata": {
        "colab": {
          "base_uri": "https://localhost:8080/"
        },
        "id": "l4hiJgPdBF14",
        "outputId": "24cdcfbe-6cac-46d8-c611-6edfc87bd82d"
      },
      "source": [
        "#Ask the user for two numbers: one number to check (call it num)\n",
        "#and one number to divide by (check). If check divides evenly into num,\n",
        "#tell that to the user. If not, print a different appropriate message.\n",
        "num = int(input(\"Please enter a number: \"))\n",
        "check = int(input(\"Please enter another number: \"))\n",
        "if (num%check)==0:\n",
        "  print(\"Check divides evenly into num!\")\n",
        "else:\n",
        "  print(\"Check does not divide evenly into num!\")"
      ],
      "execution_count": 61,
      "outputs": [
        {
          "output_type": "stream",
          "text": [
            "Please enter a number: 5\n",
            "Please enter another number: 3\n",
            "Check does not divide evenly into num!\n"
          ],
          "name": "stdout"
        }
      ]
    },
    {
      "cell_type": "code",
      "metadata": {
        "colab": {
          "base_uri": "https://localhost:8080/"
        },
        "id": "Auh1Eam2B18b",
        "outputId": "3d5a6292-aa6d-432e-b041-cc86199fe2fc"
      },
      "source": [
        "#Write a custom function for finding whether the number is even or odd and call it in your\n",
        "#main program code.\n",
        "def greeting(n):\n",
        "  \"\"\"This function finds out whether the number entered is odd or even.\"\"\"\n",
        "  if (n%2) == 0:\n",
        "    print(n, \"is an even number!\")\n",
        "  else:\n",
        "    print(n, \"is an odd number!\")\n",
        "greeting(4)"
      ],
      "execution_count": 64,
      "outputs": [
        {
          "output_type": "stream",
          "text": [
            "49 is an odd number!\n"
          ],
          "name": "stdout"
        }
      ]
    }
  ]
}